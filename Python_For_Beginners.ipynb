{
  "nbformat": 4,
  "nbformat_minor": 0,
  "metadata": {
    "colab": {
      "provenance": [],
      "toc_visible": true,
      "authorship_tag": "ABX9TyP3t6tsU6tYCBROgU1NFd8i",
      "include_colab_link": true
    },
    "kernelspec": {
      "name": "python3",
      "display_name": "Python 3"
    },
    "language_info": {
      "name": "python"
    }
  },
  "cells": [
    {
      "cell_type": "markdown",
      "metadata": {
        "id": "view-in-github",
        "colab_type": "text"
      },
      "source": [
        "<a href=\"https://colab.research.google.com/github/mrfoxie/Python-for-beginners/blob/master/Python_For_Beginners.ipynb\" target=\"_parent\"><img src=\"https://colab.research.google.com/assets/colab-badge.svg\" alt=\"Open In Colab\"/></a>"
      ]
    },
    {
      "cell_type": "markdown",
      "source": [
        "<br/>\n",
        "<p align=\"center\">\n",
        "  <a href=\"https://github.com/mrfoxie/Python-for-beginners\">\n",
        "    <img src=\"https://1.bp.blogspot.com/-kNhAMJs8URc/U1CHMzHqqQI/AAAAAAAAU88/87mxj2WQU5s/s1600/zen-of-python-poster-a3.png\" alt=\"Logo\" width=\"80%\">\n",
        "  </a>\n",
        "\n",
        "<h3 align=\"center\"><img src=\"https://1.bp.blogspot.com/-kNhAMJs8URc/U1CHMzHqqQI/AAAAAAAAU88/87mxj2WQU5s/s1600/zen-of-python-poster-a3.png\" alt=\"Logo\" width=\"2%\">Python for Beginners<img src=\"https://1.bp.blogspot.com/-kNhAMJs8URc/U1CHMzHqqQI/AAAAAAAAU88/87mxj2WQU5s/s1600/zen-of-python-poster-a3.png\" alt=\"Logo\" width=\"2%\"></h3>\n",
        "\n",
        "<p align=\"center\">\n",
        "    We will be learning Python from beginning with examples and tutorials.\n",
        "    <br/>\n",
        "    <br/>\n",
        "    <a href=\"https://github.com/mrfoxie/Python-for-beginners\"><strong>Explore the docs »</strong></a>\n",
        "    <br/>\n",
        "    <br/>\n",
        "    <a href=\"https://colab.research.google.com/github/mrfoxie/Python-for-beginners/blob/master/Python_For_Beginners.ipynb\">View Demo</a>\n",
        "    .\n",
        "    <a href=\"https://github.com/mrfoxie/Python-for-beginners/issues\">Report Bug</a>\n",
        "    .\n",
        "    <a href=\"https://github.com/mrfoxie/Python-for-beginners/pulls\">Contribute</a>\n",
        "  </p>\n",
        "\n",
        "  <br>\n",
        "\n",
        "![Downloads](https://img.shields.io/github/downloads/mrfoxie/Python-for-beginners/total) ![Contributors](https://img.shields.io/github/contributors/mrfoxie/Python-for-beginners?color=dark-green) ![Issues](https://img.shields.io/github/issues/mrfoxie/Python-for-beginners) ![License](https://img.shields.io/github/license/mrfoxie/Python-for-beginners) [![Google Colab](https://colab.research.google.com/assets/colab-badge.svg)](https://colab.research.google.com/github/mrfoxie/Python-for-beginners/blob/master/Python_For_Beginners.ipynb)\n",
        "\n",
        "\n",
        "```text\n",
        "I'M WORKING ON JUPYTER NOTEBOOK FOR MORE EASIER WAY TO WORK.\n",
        "```\n",
        "\n",
        "# **Table Of Contents**\n",
        "\n",
        "* [About the Project](#about-the-project)\n",
        "* [Built With](#built-with)\n",
        "* [Getting Started](#getting-started)\n",
        "  * [Prerequisites](#prerequisites)\n",
        "  * [Installation](#installation)\n",
        "* [Usage](#usage)\n",
        "* [List of Codes](#list-of-codes)\n",
        "* [Roadmap](#roadmap)\n",
        "* [Contributing](#contributing)\n",
        "* [License](#license)\n",
        "* [Authors](#authors)\n",
        "* [Acknowledgements](#acknowledgements)"
      ],
      "metadata": {
        "id": "qlQxq-n0zLo4"
      }
    },
    {
      "cell_type": "markdown",
      "source": [
        "## **About The Project**\n",
        "\n",
        "![Screen Shot](https://mac-cdn.softpedia.com/screenshots/PyCharm-Community_43.jpg)\n",
        "\n",
        "Python is a high-level, general-purpose programming language. Its design philosophy emphasizes code readability with the use of significant indentation. Its language constructs and object-oriented approach aim to help programmers write clear, logical code for small- and large-scale projects.\n",
        "\n",
        "It can be used to build apps, website, automation and much more. It is a user-friendly script which can be used by anyone around the world 🌏. The main use of python is being used for AI, Machine Learning, Automation, etc. which help us to do our work easily."
      ],
      "metadata": {
        "id": "muTDO_rQ0lNi"
      }
    },
    {
      "cell_type": "markdown",
      "source": [
        "## **Built With**\n",
        "\n",
        "We will be needing little software which will help you to build script and also your program."
      ],
      "metadata": {
        "id": "FHM_b12J060D"
      }
    },
    {
      "cell_type": "markdown",
      "source": [
        "## **Getting Started**\n",
        "\n",
        "What we will be needing little software to getting started with:\n",
        "\n",
        "1. [Python 3.xx.x]([Download Python | Python.org](https://www.python.org/downloads/)) (for Windows, Mac or Linux)\n",
        "\n",
        "2. [Pycharm]([Download PyCharm: Python IDE for Professional Developers by JetBrains](https://www.jetbrains.com/pycharm/download/)) (select Communication version for Windows, Mac or Linux)"
      ],
      "metadata": {
        "id": "VDXAXfmo1BPZ"
      }
    },
    {
      "cell_type": "markdown",
      "source": [
        "## **Prerequisites**\n",
        "\n",
        "We will be either needing any kind of devices no matter if you're an IOS user or android user."
      ],
      "metadata": {
        "id": "sYeikLdD1KmK"
      }
    },
    {
      "cell_type": "markdown",
      "source": [
        "## **Installation (Offline usage)**\n",
        "\n",
        "1. [Python 3.xx.x]([Download Python | Python.org](https://www.python.org/downloads/)) (for Windows, Mac or Linux)\n",
        "\n",
        "2. [Pycharm]([Download PyCharm: Python IDE for Professional Developers by JetBrains](https://www.jetbrains.com/pycharm/download/)) (select Communication version for Windows, Mac or Linux)"
      ],
      "metadata": {
        "id": "PRQ6hJ4I1WHf"
      }
    },
    {
      "cell_type": "markdown",
      "source": [
        "## **Usage (Offline usage)**\n",
        "\n",
        "1. After installing both the software open up.\n",
        "\n",
        "2. First we will be creating new project with whatever name you want or just clone this repo into any directory and open it up into Pycharm.\n",
        "\n",
        "```git\n",
        "cd ~/\n",
        "git clone https://github.com/mrfoxie/Python-for-begineers.git Python-Tutorials\n",
        "```\n",
        "\n",
        "3. Now cd to `Python-Tutorials` and then to `Jupyter_Notebook` to execute the file.\n",
        "\n",
        "```bash\n",
        "cd ~/Python-Tutorials/Jupyter_Notebook\n",
        "ls -1\n",
        "```\n",
        "\n",
        "it will give you list of all codes which are being executable.\n",
        "\n",
        "```text\n",
        ".\n",
        "├── 01. Hello World.ipynb\n",
        "├── 02. Variables.ipynb\n",
        "├── 03. Example 01.ipynb\n",
        "├── 04. Input.ipynb\n",
        "├── 05. Example 02.ipynb\n",
        "├── 06. Fun Time.ipynb\n",
        "├── 07. Example 03.ipynb\n",
        "├── 08. String.ipynb\n",
        "├── 09. Characteristics of String.ipynb\n",
        "├── 10. Formated strings.ipynb\n",
        "├── 11. String Method.ipynb\n",
        "├── 12. Arithmetic Operation.ipynb\n",
        "└── README.md\n",
        "\n",
        "0 directories, 13 files\n",
        "```"
      ],
      "metadata": {
        "id": "xN7kYeTq1jDK"
      }
    },
    {
      "cell_type": "markdown",
      "source": [
        "## **Roadmap**\n",
        "\n",
        "See the [open issues](https://github.com/mrfoxie/Python-for-beginners/issues) for a list of proposed features (and known issues)."
      ],
      "metadata": {
        "id": "qJwVXIcG1ore"
      }
    },
    {
      "cell_type": "markdown",
      "source": [
        "## **Contributing**\n",
        "\n",
        "Contributions are what make the open source community such an amazing place to be learnt, inspire, and create. Any contributions you make are **greatly appreciated**.\n",
        "\n",
        "* If you have suggestions for adding or removing projects, feel free to [open an issue](https://github.com/mrfoxie/Python-for-beginners/issues/new) to discuss it, or directly create a pull request after you edit the *README.md* file with necessary changes.\n",
        "* Please make sure you check your spelling and grammar.\n",
        "* Create individual PR for each suggestion.\n",
        "* Please also read through the [Code Of Conduct](https://github.com/mrfoxie/Python-for-beginners/blob/main/CODE_OF_CONDUCT.md) before posting your first idea as well."
      ],
      "metadata": {
        "id": "xyH13kYG1vb8"
      }
    },
    {
      "cell_type": "markdown",
      "source": [
        "## **Creating A Pull Request**\n",
        "\n",
        "1. Fork the Project\n",
        "2. Create your Feature Branch (`git checkout -b mrfoxie/Python-for-beginners`)\n",
        "3. Commit your Changes (`git commit -m 'Add some Comment'`)\n",
        "4. Push to the Branch (`git push origin mrfoxie/Python-for-beginners`)\n",
        "5. Open a Pull Request"
      ],
      "metadata": {
        "id": "nPOmrIMP1zUO"
      }
    },
    {
      "cell_type": "markdown",
      "source": [
        "## **License**\n",
        "\n",
        "Distributed under the MIT License. See [LICENSE](https://github.com/mrfoxie/Python-for-beginners/blob/main/LICENSE.md) for more information."
      ],
      "metadata": {
        "id": "L22yhkf414y_"
      }
    },
    {
      "cell_type": "markdown",
      "source": [
        "## **Authors**\n",
        "\n",
        "* **Mistry Siddh** -  [MrBlogger](https://www.mistrysiddh.com)"
      ],
      "metadata": {
        "id": "qIClKrYt19Qj"
      }
    },
    {
      "cell_type": "markdown",
      "source": [
        "## **Acknowledgements**\n",
        "\n",
        "* [Mistry Siddh](https://www.mistrysiddh.tk/)\n",
        "* [MrFoxie](https://github.com/mrfoxie)\n",
        "* [ImgShields](https://shields.io/)\n",
        "* [Google Colab](https://colab.research.google.com/)"
      ],
      "metadata": {
        "id": "qMd43SIG2Y66"
      }
    },
    {
      "cell_type": "markdown",
      "source": [
        "# **Programming**"
      ],
      "metadata": {
        "id": "nR40NhAh65zW"
      }
    },
    {
      "cell_type": "markdown",
      "source": [
        "## **Print**\n",
        "\n",
        "PRINT is used to print any text or numerical data which is witten by user.\n",
        "print also us helps to display message of the task which is being done when the program is being executed In python programming are being scanned from first line of the Now when you want to print something then you need quotations mark to print any-kind of string (means display characters) to display out message which you want to print."
      ],
      "metadata": {
        "id": "OyPXe6uQ7Cb0"
      }
    },
    {
      "cell_type": "code",
      "source": [
        "print('Hello World')  # to print any kind of messages to user of inform user"
      ],
      "metadata": {
        "colab": {
          "base_uri": "https://localhost:8080/"
        },
        "id": "aQJbmYPk7FuB",
        "outputId": "7c278484-0739-4c76-9fa5-afff08243521"
      },
      "execution_count": null,
      "outputs": [
        {
          "output_type": "stream",
          "name": "stdout",
          "text": [
            "Hello World\n"
          ]
        }
      ]
    },
    {
      "cell_type": "markdown",
      "source": [
        "Try to draw an imaginary dog using print command."
      ],
      "metadata": {
        "id": "o470Q7U_75yr"
      }
    },
    {
      "cell_type": "code",
      "source": [
        "print('')"
      ],
      "metadata": {
        "colab": {
          "base_uri": "https://localhost:8080/"
        },
        "id": "2HeEz6-L78W9",
        "outputId": "238eb120-3adc-467d-e205-f1fc122f3384"
      },
      "execution_count": null,
      "outputs": [
        {
          "output_type": "stream",
          "name": "stdout",
          "text": [
            "\n"
          ]
        }
      ]
    },
    {
      "cell_type": "code",
      "source": [
        "print('*' * 3)"
      ],
      "metadata": {
        "colab": {
          "base_uri": "https://localhost:8080/"
        },
        "id": "oVnxDXqz7__I",
        "outputId": "da020523-f25d-421e-e8fa-479027dafb03"
      },
      "execution_count": null,
      "outputs": [
        {
          "output_type": "stream",
          "name": "stdout",
          "text": [
            "***\n"
          ]
        }
      ]
    },
    {
      "cell_type": "markdown",
      "source": [
        "hold on as I told you that we will be printing characters in quotation marks then why am I using multiplication here well you will see the magic when you run it when you multiply sting with any number than it  will multiply the output and give you the answer in the above case it will print 3 time '*' like this *** << this is your answer of the above line now you can try down bellow with your actions\n"
      ],
      "metadata": {
        "id": "uol7VW3D8DsT"
      }
    },
    {
      "cell_type": "markdown",
      "source": [
        "### Practice"
      ],
      "metadata": {
        "id": "02UckSXa8QYP"
      }
    },
    {
      "cell_type": "code",
      "source": [
        "print('|' * 10)  # change 10 and characters in the quotation mark"
      ],
      "metadata": {
        "colab": {
          "base_uri": "https://localhost:8080/"
        },
        "id": "pCjNVvAU8SUI",
        "outputId": "54309e79-c948-4762-b10d-27244bf99140"
      },
      "execution_count": null,
      "outputs": [
        {
          "output_type": "stream",
          "name": "stdout",
          "text": [
            "||||||||||\n"
          ]
        }
      ]
    },
    {
      "cell_type": "markdown",
      "source": [
        "Now what if I use addition instead of multiplication then what will happen. Let's give it a try."
      ],
      "metadata": {
        "id": "AzNSlQyQ8WDW"
      }
    },
    {
      "cell_type": "code",
      "source": [
        "print('First word' + ' Second word')"
      ],
      "metadata": {
        "colab": {
          "base_uri": "https://localhost:8080/"
        },
        "id": "D8BQjtPb8YAR",
        "outputId": "697958b2-eba0-404b-978d-8fc5dabd31d8"
      },
      "execution_count": null,
      "outputs": [
        {
          "output_type": "stream",
          "name": "stdout",
          "text": [
            "First word Second word\n"
          ]
        }
      ]
    },
    {
      "cell_type": "markdown",
      "source": [
        "here both the words will add together and give you the answer 'First word Second word' so when you use addition instead of multiplication will combine those words and give you a single word."
      ],
      "metadata": {
        "id": "b-aZn8k38cje"
      }
    },
    {
      "cell_type": "markdown",
      "source": [
        "## **VARIABLE**\n",
        "Variable are used to store data. Variables may be of different type such as string, float, integer etc. Variables are also used to as input from users, and then you can store in its memory. Say for example if you want to save someone's age then you have to just use variable to save e.g. age = 25. After using the variable you can use it in the print statement to print age."
      ],
      "metadata": {
        "id": "92Svlebq95HN"
      }
    },
    {
      "cell_type": "code",
      "source": [
        "age = 25  # just writing 25 means that it's your integer\n",
        "print(age)  # you will get answer '25' in the terminal box but if you add quote to age then it will print age"
      ],
      "metadata": {
        "colab": {
          "base_uri": "https://localhost:8080/"
        },
        "id": "RMHL68Ab97rl",
        "outputId": "0f7147e7-af07-450c-ab2e-e149a649f25a"
      },
      "execution_count": null,
      "outputs": [
        {
          "output_type": "stream",
          "name": "stdout",
          "text": [
            "25\n"
          ]
        }
      ]
    },
    {
      "cell_type": "code",
      "source": [
        "degree = 15.5\n",
        "print(degree)  # you will get 15.5 which is your float number so as a result you will 15.5"
      ],
      "metadata": {
        "colab": {
          "base_uri": "https://localhost:8080/"
        },
        "id": "_2nj3bub-KMV",
        "outputId": "83348dbe-0b40-42c3-9e3f-fa1355a09133"
      },
      "execution_count": null,
      "outputs": [
        {
          "output_type": "stream",
          "name": "stdout",
          "text": [
            "15.5\n"
          ]
        }
      ]
    },
    {
      "cell_type": "markdown",
      "source": [
        "You can use quotation marks to print string characters so that you can display."
      ],
      "metadata": {
        "id": "wlH7k0Wx-Ohi"
      }
    },
    {
      "cell_type": "code",
      "source": [
        "name = 'HelloWorld'\n",
        "print(name)  # you will answer 'HelloWorld' in the terminal box."
      ],
      "metadata": {
        "colab": {
          "base_uri": "https://localhost:8080/"
        },
        "id": "lsCy-7_8-Q97",
        "outputId": "7d523097-1d4a-4c40-842c-2c00cd6c77b2"
      },
      "execution_count": null,
      "outputs": [
        {
          "output_type": "stream",
          "name": "stdout",
          "text": [
            "HelloWorld\n"
          ]
        }
      ]
    },
    {
      "cell_type": "markdown",
      "source": [
        "### Try youself"
      ],
      "metadata": {
        "id": "jzH8wSpD-Rl4"
      }
    },
    {
      "cell_type": "code",
      "source": [
        "number = 0 # change 0 to any number\n",
        "characters = 'Change_me'\n",
        "print(number)\n",
        "print(characters)"
      ],
      "metadata": {
        "colab": {
          "base_uri": "https://localhost:8080/"
        },
        "id": "bfAUPb92-WkP",
        "outputId": "9903e2d6-5022-43c0-9cb2-e3ff30e3408a"
      },
      "execution_count": null,
      "outputs": [
        {
          "output_type": "stream",
          "name": "stdout",
          "text": [
            "0\n",
            "Change_me\n"
          ]
        }
      ]
    },
    {
      "cell_type": "markdown",
      "source": [
        "Now say for example I used 2 time the same variable with different variables. Let's check it out."
      ],
      "metadata": {
        "id": "UwtQ5U84-cQC"
      }
    },
    {
      "cell_type": "code",
      "source": [
        "python = 22\n",
        "python = 'I win.'\n",
        "print(python)  # run the program and try it by yourself and check the answer."
      ],
      "metadata": {
        "colab": {
          "base_uri": "https://localhost:8080/"
        },
        "id": "ZDrrSqcK-d3y",
        "outputId": "e684bb18-9459-4363-ae24-bbd0869b7e12"
      },
      "execution_count": null,
      "outputs": [
        {
          "output_type": "stream",
          "name": "stdout",
          "text": [
            "I win.\n"
          ]
        }
      ]
    },
    {
      "cell_type": "markdown",
      "source": [
        "In some cases you need to define variable as a large name so for that you have to use underscore instead of spaces"
      ],
      "metadata": {
        "id": "x5GpJnyL-hZd"
      }
    },
    {
      "cell_type": "code",
      "source": [
        "two_words = 'First Second'  # as you can see that I have writen 2 words as a variable but in between there is no\n",
        "# space I have use underscore so that it can understand as a single variable\n",
        "print(two_words)"
      ],
      "metadata": {
        "colab": {
          "base_uri": "https://localhost:8080/"
        },
        "id": "gXFwEfHq-m8t",
        "outputId": "d914d4a7-e391-4f25-8030-c43a9bb7c2e4"
      },
      "execution_count": null,
      "outputs": [
        {
          "output_type": "stream",
          "name": "stdout",
          "text": [
            "First Second\n"
          ]
        }
      ]
    },
    {
      "cell_type": "markdown",
      "source": [
        "Now we will be using boolean in python but remember one thing that python is a case-sensitive langauge so make sure that you write in a proper formate"
      ],
      "metadata": {
        "id": "eAbV_f2p-pp8"
      }
    },
    {
      "cell_type": "code",
      "source": [
        "is_true = True\n",
        "print(is_true)\n",
        "is_false = False\n",
        "print(is_false)"
      ],
      "metadata": {
        "colab": {
          "base_uri": "https://localhost:8080/"
        },
        "id": "dT1Uiqqh-q12",
        "outputId": "e117d07f-e7cb-41b4-dd02-3af40fa2817e"
      },
      "execution_count": null,
      "outputs": [
        {
          "output_type": "stream",
          "name": "stdout",
          "text": [
            "True\n",
            "False\n"
          ]
        }
      ]
    },
    {
      "cell_type": "markdown",
      "source": [
        "as you can see that I have use true or false as a boolean, but it's a case-sensitive, so you have to capitalize all the characters which has been needed if not that it will prompt with you error you can try it by yourself by changing True or False in above code"
      ],
      "metadata": {
        "id": "nQNX5lwT-t8k"
      }
    },
    {
      "cell_type": "markdown",
      "source": [
        "## **Example 01**\n",
        "We check in a patient named John Smith.\n",
        "He's 20 years old and is a new patient."
      ],
      "metadata": {
        "id": "fRULwRfv-5hv"
      }
    },
    {
      "cell_type": "code",
      "source": [
        "# input your answer here"
      ],
      "metadata": {
        "id": "Xg5ZuqIq_NMF"
      },
      "execution_count": null,
      "outputs": []
    },
    {
      "cell_type": "code",
      "source": [],
      "metadata": {
        "id": "qUhc0u_S_RNy"
      },
      "execution_count": null,
      "outputs": []
    },
    {
      "cell_type": "markdown",
      "source": [
        "## Input\n",
        "Sometimes we use to get input from users to make sure that it has been matches with our program. This Input helps us to gain proper input to run our programs. Best example is youtube-dl which is based on python\n",
        "\n",
        "`input()` This will prompt a dialog box or line on terminal which will ask for input from user so that it can fulfill its needs you can write whatever you want into the input function to give hint to user so that the user give proper input. This input as your keyboard and mouse which has prebuilt keys which helps to give input."
      ],
      "metadata": {
        "id": "VWSnZOcgyVTq"
      }
    },
    {
      "cell_type": "code",
      "source": [
        "input('What is your name? ')"
      ],
      "metadata": {
        "id": "n4FZ0QkwygEq"
      },
      "execution_count": null,
      "outputs": []
    },
    {
      "cell_type": "markdown",
      "source": [
        "if you have just writen only input then it will save the output into memory. so for showing that output we will use variables to store it in and then use it out whenever we need it.\n"
      ],
      "metadata": {
        "id": "QQzCsTswyiAc"
      }
    },
    {
      "cell_type": "code",
      "source": [
        "name = input(\"What is your name? \")  # now just run the program and then write your name.\n",
        "print('Hi ' + name)  # the output of the above line will be stored in the name variable, and then it will print it out."
      ],
      "metadata": {
        "id": "KV7IsYEmyiwO"
      },
      "execution_count": null,
      "outputs": []
    },
    {
      "cell_type": "markdown",
      "source": [
        "## **Example 02**\n",
        "Ask two question: person's name and favourite color.\n",
        "Then, print a message like \"Siddh likes orange color.\""
      ],
      "metadata": {
        "id": "cH7D2tY6yldP"
      }
    },
    {
      "cell_type": "code",
      "source": [
        "# input your answer here"
      ],
      "metadata": {
        "id": "iZyygOrgyu81"
      },
      "execution_count": null,
      "outputs": []
    },
    {
      "cell_type": "markdown",
      "source": [
        "## **Fun Time**\n",
        "We will ask user there birth year, and then we will calculate it so that we can find out how old the user is."
      ],
      "metadata": {
        "id": "y_g1Z9oJyxHR"
      }
    },
    {
      "cell_type": "code",
      "source": [
        "birth_year = input('Birth year: ')\n",
        "age = 2022 - birth_year\n",
        "print(age)"
      ],
      "metadata": {
        "id": "uLx7pmXY5gYZ"
      },
      "execution_count": null,
      "outputs": []
    },
    {
      "cell_type": "markdown",
      "source": [
        "Well if you have run the program then you have got error like below\n",
        "Birth year: 1997\n",
        "TypeError: unsupported operand type(s) for -: 'int' and 'str'\n",
        "this is because that we can't subtract integer with sting value so what we will do is we will wrap birth_year with int function, and you will get like this."
      ],
      "metadata": {
        "id": "JJrcSLv65irH"
      }
    },
    {
      "cell_type": "code",
      "source": [
        "int(birth_year)"
      ],
      "metadata": {
        "id": "bkdztCao5mcn"
      },
      "execution_count": null,
      "outputs": []
    },
    {
      "cell_type": "markdown",
      "source": [
        "so we will modify our code and add the above line instead of `birth_year` to `int(birth_year)`"
      ],
      "metadata": {
        "id": "Izk7Xihk5oul"
      }
    },
    {
      "cell_type": "code",
      "source": [
        "birth_year = input('Birth year: ')\n",
        "# print(type(birth_year)) # uncomment this line it will allow you to see what kind of output is it whether it's a str or int\n",
        "age = 2022 - int(birth_year)\n",
        "# print(type(age)) # uncomment this line it will allow you to see what kind of output is it whether it's a str or int\n",
        "print(age)"
      ],
      "metadata": {
        "id": "Odwbthcz5rGb"
      },
      "execution_count": null,
      "outputs": []
    },
    {
      "cell_type": "markdown",
      "source": [
        "## **Example 03**\n",
        "Ask a user their weight (in pounds), convert it to kilograms and print on it on terminal."
      ],
      "metadata": {
        "id": "RaNHy1GX5tlY"
      }
    },
    {
      "cell_type": "code",
      "source": [
        "# hint 1 kg =  2.205 pund"
      ],
      "metadata": {
        "id": "0LdCSs_H50vU"
      },
      "execution_count": null,
      "outputs": []
    },
    {
      "cell_type": "markdown",
      "source": [
        "## String\n",
        "Strings are used to display message's on the screen or to convey instruction to users."
      ],
      "metadata": {
        "id": "pkuHxb6K6Z2P"
      }
    },
    {
      "cell_type": "code",
      "source": [
        "test = 'This is a testing.'\n",
        "print(test)"
      ],
      "metadata": {
        "id": "9aCyPjW46b-V"
      },
      "execution_count": null,
      "outputs": []
    },
    {
      "cell_type": "markdown",
      "source": [
        "Now say for example you want to print 'You're having it' if we write in single quotes then it will show us error"
      ],
      "metadata": {
        "id": "SwXF8_du6fVE"
      }
    },
    {
      "cell_type": "code",
      "source": [
        "|test1 = 'You're having it'\n",
        "print(test1)"
      ],
      "metadata": {
        "id": "tlwKDVos6hMs"
      },
      "execution_count": null,
      "outputs": []
    },
    {
      "cell_type": "markdown",
      "source": [
        "so for this error we can use double quotes to solve this error"
      ],
      "metadata": {
        "id": "0njxVwqg6jUx"
      }
    },
    {
      "cell_type": "code",
      "source": [
        "test2 = \"You're having it\"  # so as you can see in test1 we are getting error but now if you print it. it will work.\n",
        "print(test2)"
      ],
      "metadata": {
        "id": "FvZu6Qnc6pS-"
      },
      "execution_count": null,
      "outputs": []
    },
    {
      "cell_type": "markdown",
      "source": [
        "now these are few examples of single and double quotes"
      ],
      "metadata": {
        "id": "7TIscRND6tfM"
      }
    },
    {
      "cell_type": "code",
      "source": [
        "print('Python Tutorial \"Beginners\"')\n",
        "print(\"Python Tutorial Beginner's\")"
      ],
      "metadata": {
        "id": "wLfzefTN6vr3"
      },
      "execution_count": null,
      "outputs": []
    },
    {
      "cell_type": "markdown",
      "source": [
        "Now say for example you want to write the comment or any instruction in multiple lines so for that case we won't use print command multiple time insted we will be using tripple quotes ` ''' ` so that we can write it in multiple lines."
      ],
      "metadata": {
        "id": "VqugzE5F66Fx"
      }
    },
    {
      "cell_type": "code",
      "source": [
        "# bellow is multiple print funcution which we have been used\n",
        "print('This is first line')\n",
        "print('This is second line')\n",
        "print('This is third line')\n",
        "\n",
        "# bellow is the tripple quotes we will be using to print multiple lines\n",
        "print('''\n",
        "This is first line\n",
        "This is second line\n",
        "This is third line\n",
        "''')"
      ],
      "metadata": {
        "id": "VF2ZNmO07AqI"
      },
      "execution_count": null,
      "outputs": []
    },
    {
      "cell_type": "markdown",
      "source": [
        "so as you can see that rather using multiple print function we can use only one print function with tripple quotes."
      ],
      "metadata": {
        "id": "cYSFaZ8n7DU6"
      }
    },
    {
      "cell_type": "markdown",
      "source": [
        "## **Characteristics of String**\n",
        "now we will be seeing characteristics of string by using square brackets \"[]\".\n",
        "this is usually to index the characters which are written in the string."
      ],
      "metadata": {
        "id": "qJ9FSOc-7SZE"
      }
    },
    {
      "cell_type": "code",
      "source": [
        "string_index = \"This is a test string\"\n",
        "#               0123456789.....\n",
        "print(string_index[0])"
      ],
      "metadata": {
        "id": "A7veLMGM7XO8"
      },
      "execution_count": null,
      "outputs": []
    },
    {
      "cell_type": "markdown",
      "source": [
        "here what will happen that it will just print only 0 no of index from string_index line which will be \"T\".\n",
        "well I don't know about other programming language, but you can use -ve numbering for indexing to print  characters from the last of the statement."
      ],
      "metadata": {
        "id": "XGtu6X-Y7YEJ"
      }
    },
    {
      "cell_type": "code",
      "source": [
        "print(string_index[-1])"
      ],
      "metadata": {
        "id": "zmQ2DOa17k9b"
      },
      "execution_count": null,
      "outputs": []
    },
    {
      "cell_type": "markdown",
      "source": [
        "Here you will get \"G\" which is the ending of \"string\" you can change the negative number to test it.\n",
        "Here you will be able to get \"This\" as an answer.\n",
        "Let's see the explanation of string_index[0:4] here what will happen is it will return with 4 characters because 0 indicate the starting position and 4 means how much number of characters should be extracted from starting position of the index."
      ],
      "metadata": {
        "id": "H-xACgRI7p3e"
      }
    },
    {
      "cell_type": "code",
      "source": [
        "name = \"Python\"\n",
        "print(name[1:-1])"
      ],
      "metadata": {
        "id": "RM1V-Bk87uXU"
      },
      "execution_count": null,
      "outputs": []
    },
    {
      "cell_type": "markdown",
      "source": [
        "so in the above code what happened is that it will omit first and last letter and print the rest of the name as it is."
      ],
      "metadata": {
        "id": "2_J5E-y-7xUd"
      }
    },
    {
      "cell_type": "markdown",
      "source": [
        "## String Method"
      ],
      "metadata": {
        "id": "1bbR6ERV76zv"
      }
    },
    {
      "cell_type": "code",
      "source": [
        "course = 'Python for beginners'"
      ],
      "metadata": {
        "id": "MiD3axYO8BMM"
      },
      "execution_count": null,
      "outputs": []
    },
    {
      "cell_type": "markdown",
      "source": [
        "So now lets look at course variable it is having some data in it so lets print it out"
      ],
      "metadata": {
        "id": "_f8fiMSq8Fhh"
      }
    },
    {
      "cell_type": "code",
      "source": [
        "print(course)"
      ],
      "metadata": {
        "id": "v_nRiz7i8Ikh"
      },
      "execution_count": null,
      "outputs": []
    },
    {
      "cell_type": "markdown",
      "source": [
        "As you have noticed that cource variable has some data into it but we don't know that how much data dose it contant or how much lenth dose it has so for checking that we will be using `len` function to find the lenth "
      ],
      "metadata": {
        "id": "k_R77cfh8UKX"
      }
    },
    {
      "cell_type": "code",
      "source": [
        "print(len(course))\n",
        "len(course) # either you can use print function or direct you can use len function to print length of variable"
      ],
      "metadata": {
        "id": "N23NKhAo8Vau"
      },
      "execution_count": null,
      "outputs": []
    },
    {
      "cell_type": "markdown",
      "source": [
        "So as we have seen that we have used `len` function to get the lenth of sring which we use to display a message or anything else so now what we will do is that we will print upper or lower cases of string by using lower and upper"
      ],
      "metadata": {
        "id": "C5nzljX08ZyN"
      }
    },
    {
      "cell_type": "code",
      "source": [
        "print(course)\n",
        "print(course.lower()) # so when we add . after variable are been known as a method\n",
        "print(course.upper())"
      ],
      "metadata": {
        "id": "9GWaRaXY8f5y"
      },
      "execution_count": null,
      "outputs": []
    },
    {
      "cell_type": "markdown",
      "source": [
        "So as you have seen that when we used lower or upper method which will help to take input data or print data into upper or lower cases. this method dosn't change your orignal data but it create a new string and return it with the modified data with responce to orignal data.\n",
        "Now lets just say you want to find a possion of a letter so insted of upper and lower we will use find method"
      ],
      "metadata": {
        "id": "5bwAX5OW8k09"
      }
    },
    {
      "cell_type": "code",
      "source": [
        "print(course.find('n'))\n",
        "print(course.find('for')) # its also finds out the word and its index number also"
      ],
      "metadata": {
        "id": "Kw2aOKAi8vAD"
      },
      "execution_count": null,
      "outputs": []
    },
    {
      "cell_type": "markdown",
      "source": [
        "As we know that methods are use for different types of purposes as we have seen find, length, upper, lower.\n",
        "Now say for example you want to replace some words so there is an option to replace it also like other methods"
      ],
      "metadata": {
        "id": "qiMldFNl8xcM"
      }
    },
    {
      "cell_type": "code",
      "source": [
        "print(course + ' (original statement)') # this is our original statement\n",
        "print(course.replace('Python','Python course') + ' (replaced statement)') # this is our replaced statement but remember one thing that replacing characters are case-sensitive so make sure that you write the exert same characters."
      ],
      "metadata": {
        "id": "K07HHSVH80Ch"
      },
      "execution_count": null,
      "outputs": []
    },
    {
      "cell_type": "markdown",
      "source": [
        "say for example you want to find something in the text or paragraph whether it exist or not for that we will be using `in` operator"
      ],
      "metadata": {
        "id": "3c8ijV-G82Bk"
      }
    },
    {
      "cell_type": "code",
      "source": [
        "print('Python' in course) # remember this is also case-sensitive\n",
        "print('python' in course)"
      ],
      "metadata": {
        "id": "y5OSqNA883re"
      },
      "execution_count": null,
      "outputs": []
    },
    {
      "cell_type": "code",
      "source": [
        "print(course.title())"
      ],
      "metadata": {
        "id": "UJS08VsF8-7v"
      },
      "execution_count": null,
      "outputs": []
    },
    {
      "cell_type": "markdown",
      "source": [
        "## Arithmetic Operation\n",
        "This are the same arithmetic operation which are present in the math operation."
      ],
      "metadata": {
        "id": "ZxKxArAF9HQp"
      }
    },
    {
      "cell_type": "code",
      "source": [
        "# here are the same example of math operation\n",
        "10+2 # addition\n",
        "10-8 # subtraction\n",
        "20*3 # multiplication\n",
        "500/2 # Division\n",
        "100+5-55*(5/2) # math operation\n",
        "# we will be doing the same thing in python"
      ],
      "metadata": {
        "id": "VhuOkI3z9ILi"
      },
      "execution_count": null,
      "outputs": []
    },
    {
      "cell_type": "code",
      "source": [
        "print(10+2) # addition\n",
        "print(10-8) # subtraction\n",
        "print(20*3) # multiplication\n",
        "print(10**2)\n",
        "print(500/2) # Division\n",
        "print(100+5-55*(5/2)) # math operation\n",
        "# this are the same operation which can be performed in calculator or math"
      ],
      "metadata": {
        "id": "vPZNsJSl9Ko6"
      },
      "execution_count": null,
      "outputs": []
    }
  ]
}