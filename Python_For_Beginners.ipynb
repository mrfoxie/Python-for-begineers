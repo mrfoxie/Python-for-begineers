{
  "nbformat": 4,
  "nbformat_minor": 0,
  "metadata": {
    "colab": {
      "provenance": [],
      "toc_visible": true,
      "authorship_tag": "ABX9TyMKJUkgz6uDFs7TEjliuYpy",
      "include_colab_link": true
    },
    "kernelspec": {
      "name": "python3",
      "display_name": "Python 3"
    },
    "language_info": {
      "name": "python"
    }
  },
  "cells": [
    {
      "cell_type": "markdown",
      "metadata": {
        "id": "view-in-github",
        "colab_type": "text"
      },
      "source": [
        "<a href=\"https://colab.research.google.com/github/mrfoxie/Python-for-beginners/blob/master/Python_For_Beginners.ipynb\" target=\"_parent\"><img src=\"https://colab.research.google.com/assets/colab-badge.svg\" alt=\"Open In Colab\"/></a>"
      ]
    },
    {
      "cell_type": "markdown",
      "source": [
        "<br/>\n",
        "<p align=\"center\">\n",
        "  <a href=\"https://github.com/mrfoxie/Python-for-beginners\">\n",
        "    <img src=\"https://1.bp.blogspot.com/-kNhAMJs8URc/U1CHMzHqqQI/AAAAAAAAU88/87mxj2WQU5s/s1600/zen-of-python-poster-a3.png\" alt=\"Logo\" width=\"80%\">\n",
        "  </a>\n",
        "\n",
        "<h3 align=\"center\">🐍Python for Beginners</h3>\n",
        "\n",
        "<p align=\"center\">\n",
        "    We will be learning Python from beginning with examples and tutorials.\n",
        "    <br/>\n",
        "    <br/>\n",
        "    <a href=\"https://github.com/mrfoxie/Python-for-beginners\"><strong>Explore the docs »</strong></a>\n",
        "    <br/>\n",
        "    <br/>\n",
        "    <a href=\"https://github.com/mrfoxie/Python-for-beginners\">View Demo</a>\n",
        "    .\n",
        "    <a href=\"https://github.com/mrfoxie/Python-for-beginners/issues\">Report Bug</a>\n",
        "    .\n",
        "    <a href=\"https://github.com/mrfoxie/Python-for-beginners/issues\">Request Feature</a>\n",
        "  </p>\n",
        "\n",
        "![Downloads](https://img.shields.io/github/downloads/mrfoxie/Python-for-beginners/total) ![Contributors](https://img.shields.io/github/contributors/mrfoxie/Python-for-beginners?color=dark-green) ![Issues](https://img.shields.io/github/issues/mrfoxie/Python-for-beginners) ![License](https://img.shields.io/github/license/mrfoxie/Python-for-beginners) [![Binder](https://mybinder.org/badge_logo.svg)](https://mybinder.org/v2/gh/mrfoxie/Python-for-beginners/master)\n",
        "\n",
        "```text\n",
        "I'M WORKING ON JUPYTER NOTEBOOK FOR MORE EASIER WAY TO WORK.\n",
        "```\n",
        "\n",
        "## Table Of Contents\n",
        "\n",
        "* [About the Project](#about-the-project)\n",
        "* [Built With](#built-with)\n",
        "* [Getting Started](#getting-started)\n",
        "  * [Prerequisites](#prerequisites)\n",
        "  * [Installation](#installation)\n",
        "* [Usage](#usage)\n",
        "* [List of Codes](#list-of-codes)\n",
        "* [Roadmap](#roadmap)\n",
        "* [Contributing](#contributing)\n",
        "* [License](#license)\n",
        "* [Authors](#authors)\n",
        "* [Acknowledgements](#acknowledgements)"
      ],
      "metadata": {
        "id": "qlQxq-n0zLo4"
      }
    },
    {
      "cell_type": "markdown",
      "source": [
        "# About The Project\n",
        "\n",
        "![Screen Shot](https://mac-cdn.softpedia.com/screenshots/PyCharm-Community_43.jpg)\n",
        "\n",
        "Python is a high-level, general-purpose programming language. Its design philosophy emphasizes code readability with the use of significant indentation. Its language constructs and object-oriented approach aim to help programmers write clear, logical code for small- and large-scale projects.\n",
        "\n",
        "It can be used to build apps, website, automation and much more. It is a user-friendly script which can be used by anyone around the world 🌏. The main use of python is being used for AI, Machine Learning, Automation, etc. which help us to do our work easily."
      ],
      "metadata": {
        "id": "muTDO_rQ0lNi"
      }
    },
    {
      "cell_type": "markdown",
      "source": [
        "# Built With\n",
        "\n",
        "We will be needing little software which will help you to build script and also your program."
      ],
      "metadata": {
        "id": "FHM_b12J060D"
      }
    },
    {
      "cell_type": "markdown",
      "source": [
        "# Getting Started\n",
        "\n",
        "What we will be needing little software to getting started with:\n",
        "\n",
        "1. [Python 3.xx.x]([Download Python | Python.org](https://www.python.org/downloads/)) (for Windows, Mac or Linux)\n",
        "\n",
        "2. [Pycharm]([Download PyCharm: Python IDE for Professional Developers by JetBrains](https://www.jetbrains.com/pycharm/download/)) (select Communication version for Windows, Mac or Linux)"
      ],
      "metadata": {
        "id": "VDXAXfmo1BPZ"
      }
    },
    {
      "cell_type": "markdown",
      "source": [
        "# Prerequisites\n",
        "\n",
        "We will be either needing any kind of devices no matter if you're an IOS user or android user."
      ],
      "metadata": {
        "id": "sYeikLdD1KmK"
      }
    },
    {
      "cell_type": "markdown",
      "source": [
        "# Installation (Offline usage)\n",
        "\n",
        "1. [Python 3.xx.x]([Download Python | Python.org](https://www.python.org/downloads/)) (for Windows, Mac or Linux)\n",
        "\n",
        "2. [Pycharm]([Download PyCharm: Python IDE for Professional Developers by JetBrains](https://www.jetbrains.com/pycharm/download/)) (select Communication version for Windows, Mac or Linux)"
      ],
      "metadata": {
        "id": "PRQ6hJ4I1WHf"
      }
    },
    {
      "cell_type": "markdown",
      "source": [
        "# Usage (Offline usage)\n",
        "\n",
        "1. After installing both the software open up.\n",
        "\n",
        "2. First we will be creating new project with whatever name you want or just clone this repo into any directory and open it up into Pycharm.\n",
        "\n",
        "```git\n",
        "cd ~/\n",
        "git clone https://github.com/mrfoxie/Python-for-begineers.git Python-Tutorials\n",
        "```\n",
        "\n",
        "3. Now cd to `Python-Tutorials` and then to `Jupyter_Notebook` to execute the file.\n",
        "\n",
        "```bash\n",
        "cd ~/Python-Tutorials/Jupyter_Notebook\n",
        "ls -1\n",
        "```\n",
        "\n",
        "it will give you list of all codes which are being executable.\n",
        "\n",
        "```text\n",
        ".\n",
        "├── 01. Hello World.ipynb\n",
        "├── 02. Variables.ipynb\n",
        "├── 03. Example 01.ipynb\n",
        "├── 04. Input.ipynb\n",
        "├── 05. Example 02.ipynb\n",
        "├── 06. Fun Time.ipynb\n",
        "├── 07. Example 03.ipynb\n",
        "├── 08. String.ipynb\n",
        "├── 09. Characteristics of String.ipynb\n",
        "├── 10. Formated strings.ipynb\n",
        "├── 11. String Method.ipynb\n",
        "├── 12. Arithmetic Operation.ipynb\n",
        "└── README.md\n",
        "\n",
        "0 directories, 13 files\n",
        "```"
      ],
      "metadata": {
        "id": "xN7kYeTq1jDK"
      }
    },
    {
      "cell_type": "markdown",
      "source": [
        "# Roadmap\n",
        "\n",
        "See the [open issues](https://github.com/mrfoxie/Python-for-beginners/issues) for a list of proposed features (and known issues)."
      ],
      "metadata": {
        "id": "qJwVXIcG1ore"
      }
    },
    {
      "cell_type": "markdown",
      "source": [
        "# Contributing\n",
        "\n",
        "Contributions are what make the open source community such an amazing place to be learnt, inspire, and create. Any contributions you make are **greatly appreciated**.\n",
        "\n",
        "* If you have suggestions for adding or removing projects, feel free to [open an issue](https://github.com/mrfoxie/Python-for-beginners/issues/new) to discuss it, or directly create a pull request after you edit the *README.md* file with necessary changes.\n",
        "* Please make sure you check your spelling and grammar.\n",
        "* Create individual PR for each suggestion.\n",
        "* Please also read through the [Code Of Conduct](https://github.com/mrfoxie/Python-for-beginners/blob/main/CODE_OF_CONDUCT.md) before posting your first idea as well."
      ],
      "metadata": {
        "id": "xyH13kYG1vb8"
      }
    },
    {
      "cell_type": "markdown",
      "source": [
        "# Creating A Pull Request\n",
        "\n",
        "1. Fork the Project\n",
        "2. Create your Feature Branch (`git checkout -b mrfoxie/Python-for-beginners`)\n",
        "3. Commit your Changes (`git commit -m 'Add some Comment'`)\n",
        "4. Push to the Branch (`git push origin mrfoxie/Python-for-beginners`)\n",
        "5. Open a Pull Request"
      ],
      "metadata": {
        "id": "nPOmrIMP1zUO"
      }
    },
    {
      "cell_type": "markdown",
      "source": [
        "# License\n",
        "\n",
        "Distributed under the MIT License. See [LICENSE](https://github.com/mrfoxie/Python-for-beginners/blob/main/LICENSE.md) for more information."
      ],
      "metadata": {
        "id": "L22yhkf414y_"
      }
    },
    {
      "cell_type": "markdown",
      "source": [
        "# Authors\n",
        "\n",
        "* **Mistry Siddh** -  [MrBlogger](https://www.mistrysiddh.com)"
      ],
      "metadata": {
        "id": "qIClKrYt19Qj"
      }
    },
    {
      "cell_type": "markdown",
      "source": [
        "# Acknowledgements\n",
        "\n",
        "* [Mistry Siddh](https://www.mistrysiddh.tk/)\n",
        "* [MrFoxie](https://github.com/mrfoxie)\n",
        "* [ImgShields](https://shields.io/)\n",
        "* [Google Colab](https://colab.research.google.com/)"
      ],
      "metadata": {
        "id": "qMd43SIG2Y66"
      }
    }
  ]
}