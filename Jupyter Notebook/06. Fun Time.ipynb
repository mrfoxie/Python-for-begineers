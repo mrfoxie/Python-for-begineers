{
 "cells": [
  {
   "cell_type": "markdown",
   "id": "67740469",
   "metadata": {},
   "source": [
    "# **Fun Time**\n",
    "We will ask user there birth year, and then we will calculate it so that we can find out how old the user is."
   ]
  },
  {
   "cell_type": "code",
   "execution_count": null,
   "id": "f33dac35",
   "metadata": {},
   "outputs": [],
   "source": [
    "birth_year = input('Birth year: ')\n",
    "age = 2022 - birth_year\n",
    "print(age)"
   ]
  },
  {
   "cell_type": "markdown",
   "id": "92024f68",
   "metadata": {},
   "source": [
    "Well if you have run the program then you have got error like below\n",
    "Birth year: 1997\n",
    "TypeError: unsupported operand type(s) for -: 'int' and 'str'\n",
    "this is because that we can't subtract integer with sting value so what we will do is we will wrap birth_year with int function, and you will get like this."
   ]
  },
  {
   "cell_type": "code",
   "execution_count": null,
   "id": "0693b58c",
   "metadata": {},
   "outputs": [],
   "source": [
    "int(birth_year)"
   ]
  },
  {
   "cell_type": "markdown",
   "id": "9bcbc07d",
   "metadata": {},
   "source": [
    "so we will modify our code and add the above line instead of `birth_year` to `int(birth_year)`"
   ]
  },
  {
   "cell_type": "code",
   "execution_count": null,
   "id": "6a0718c1",
   "metadata": {},
   "outputs": [],
   "source": [
    "birth_year = input('Birth year: ')\n",
    "# print(type(birth_year)) # uncomment this line it will allow you to see what kind of output is it whether it's a str or int\n",
    "age = 2022 - int(birth_year)\n",
    "# print(type(age)) # uncomment this line it will allow you to see what kind of output is it whether it's a str or int\n",
    "print(age)"
   ]
  }
 ],
 "metadata": {
  "interpreter": {
   "hash": "4f946df053fbf2b937619d3c5458e7af74262f9a954d8797ba0b27400bcafe06"
  },
  "kernelspec": {
   "display_name": "Python 3.10.4 64-bit",
   "language": "python",
   "name": "python3"
  },
  "language_info": {
   "codemirror_mode": {
    "name": "ipython",
    "version": 3
   },
   "file_extension": ".py",
   "mimetype": "text/x-python",
   "name": "python",
   "nbconvert_exporter": "python",
   "pygments_lexer": "ipython3",
   "version": "3.10.4"
  }
 },
 "nbformat": 4,
 "nbformat_minor": 5
}
