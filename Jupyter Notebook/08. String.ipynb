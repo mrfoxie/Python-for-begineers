{
 "cells": [
  {
   "cell_type": "markdown",
   "id": "3e3e6ebd",
   "metadata": {},
   "source": [
    "# String\n",
    "Strings are used to display message's on the screen or to convey instruction to users."
   ]
  },
  {
   "cell_type": "code",
   "execution_count": null,
   "id": "f270b93a",
   "metadata": {},
   "outputs": [],
   "source": [
    "test = 'This is a testing.'\n",
    "print(test)"
   ]
  },
  {
   "cell_type": "markdown",
   "id": "e872d2f8",
   "metadata": {},
   "source": [
    "Now say for example you want to print 'You're having it' if we write in single quotes then it will show us error"
   ]
  },
  {
   "cell_type": "code",
   "execution_count": null,
   "id": "0c920e8f",
   "metadata": {},
   "outputs": [],
   "source": [
    "test1 = 'You're having it'\n",
    "print(test1)"
   ]
  },
  {
   "cell_type": "markdown",
   "id": "8842a390",
   "metadata": {},
   "source": [
    "so for this error we can use double quotes to solve this error"
   ]
  },
  {
   "cell_type": "code",
   "execution_count": null,
   "id": "eb45c3c9",
   "metadata": {},
   "outputs": [],
   "source": [
    "test2 = \"You're having it\"  # so as you can see in test1 we are getting error but now if you print it. it will work.\n",
    "print(test2)"
   ]
  },
  {
   "cell_type": "markdown",
   "id": "68cc8a52",
   "metadata": {},
   "source": [
    "now these are few examples of single and double quotes"
   ]
  },
  {
   "cell_type": "code",
   "execution_count": null,
   "id": "949b7d11",
   "metadata": {},
   "outputs": [],
   "source": [
    "print('Python Tutorial \"Beginners\"')\n",
    "print(\"Python Tutorial Beginner's\")"
   ]
  },
  {
   "cell_type": "markdown",
   "id": "8cd2bb51-0bfa-48ec-8baf-861aeca18fb0",
   "metadata": {},
   "source": [
    "now say for example you want to write the comment or any instruction in multiple lines so for that case we won't use print command multiple time insted we will be using tripple quotes ` ''' ` so that we can write it in multiple lines."
   ]
  },
  {
   "cell_type": "code",
   "execution_count": null,
   "id": "52bc1216-54a2-41f4-96cd-1aa1cff39d8f",
   "metadata": {},
   "outputs": [],
   "source": [
    "# bellow is multiple print funcution which we have been used\n",
    "print('This is first line')\n",
    "print('This is second line')\n",
    "print('This is third line')\n",
    "\n",
    "# bellow is the tripple quotes we will be using to print multiple lines\n",
    "print('''\n",
    "This is first line\n",
    "This is second line\n",
    "This is third line\n",
    "''')"
   ]
  },
  {
   "cell_type": "markdown",
   "id": "59e5181e-5b76-4fab-ae20-b414c6069465",
   "metadata": {},
   "source": [
    "so as you can see that rather using multiple print function we can use only one print function with tripple quotes."
   ]
  }
 ],
 "metadata": {
  "kernelspec": {
   "display_name": "Python 3 (ipykernel)",
   "language": "python",
   "name": "python3"
  },
  "language_info": {
   "codemirror_mode": {
    "name": "ipython",
    "version": 3
   },
   "file_extension": ".py",
   "mimetype": "text/x-python",
   "name": "python",
   "nbconvert_exporter": "python",
   "pygments_lexer": "ipython3",
   "version": "3.9.2"
  }
 },
 "nbformat": 4,
 "nbformat_minor": 5
}
