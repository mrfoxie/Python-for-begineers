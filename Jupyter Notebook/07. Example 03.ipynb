{
 "cells": [
  {
   "cell_type": "markdown",
   "id": "4186c478-d0a4-4f24-8c25-2332ce3d6287",
   "metadata": {},
   "source": [
    "# Ask a user their weight (in pounds), convert it to kilograms and print on it on terminal."
   ]
  }
 ],
 "metadata": {
  "kernelspec": {
   "display_name": "Python 3 (ipykernel)",
   "language": "python",
   "name": "python3"
  },
  "language_info": {
   "codemirror_mode": {
    "name": "ipython",
    "version": 3
   },
   "file_extension": ".py",
   "mimetype": "text/x-python",
   "name": "python",
   "nbconvert_exporter": "python",
   "pygments_lexer": "ipython3",
   "version": "3.8.10"
  }
 },
 "nbformat": 4,
 "nbformat_minor": 5
}
