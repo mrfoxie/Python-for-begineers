{
 "cells": [
  {
   "cell_type": "markdown",
   "id": "1b94641d-4123-4b97-b061-b9f71327fc28",
   "metadata": {},
   "source": [
    "# String Method"
   ]
  },
  {
   "cell_type": "code",
   "execution_count": null,
   "id": "baf044a0-d32b-4982-8a63-bed8e1d9b928",
   "metadata": {},
   "outputs": [],
   "source": [
    "course = 'Python for beginners'"
   ]
  },
  {
   "cell_type": "markdown",
   "id": "a7c4f72b-63de-418d-b1a3-7c0e192216c5",
   "metadata": {},
   "source": [
    "so now lets look at course variable it is having some data in it so lets print it out"
   ]
  },
  {
   "cell_type": "code",
   "execution_count": null,
   "id": "92e822e8-86b7-456d-918e-471ff41e9429",
   "metadata": {},
   "outputs": [],
   "source": [
    "print(course)"
   ]
  },
  {
   "cell_type": "markdown",
   "id": "f243bd95-80c7-49d0-81aa-452f07d08ea9",
   "metadata": {},
   "source": [
    "as you have noticed that cource variable has some data into it but we don't know that how much data dose it contant or how much lenth dose it has so for checking that we will be using `len` function to find the lenth "
   ]
  }
 ],
 "metadata": {
  "kernelspec": {
   "display_name": "Python 3 (ipykernel)",
   "language": "python",
   "name": "python3"
  },
  "language_info": {
   "codemirror_mode": {
    "name": "ipython",
    "version": 3
   },
   "file_extension": ".py",
   "mimetype": "text/x-python",
   "name": "python",
   "nbconvert_exporter": "python",
   "pygments_lexer": "ipython3",
   "version": "3.9.2"
  }
 },
 "nbformat": 4,
 "nbformat_minor": 5
}
