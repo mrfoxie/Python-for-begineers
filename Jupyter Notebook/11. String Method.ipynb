{
 "cells": [
  {
   "cell_type": "markdown",
   "id": "1b94641d-4123-4b97-b061-b9f71327fc28",
   "metadata": {},
   "source": [
    "# String Method"
   ]
  },
  {
   "cell_type": "code",
   "execution_count": null,
   "id": "baf044a0-d32b-4982-8a63-bed8e1d9b928",
   "metadata": {},
   "outputs": [],
   "source": [
    "course = 'Python for beginners'"
   ]
  },
  {
   "cell_type": "markdown",
   "id": "a7c4f72b-63de-418d-b1a3-7c0e192216c5",
   "metadata": {},
   "source": [
    "so now lets look at course variable it is having some data in it so lets print it out"
   ]
  },
  {
   "cell_type": "code",
   "execution_count": null,
   "id": "92e822e8-86b7-456d-918e-471ff41e9429",
   "metadata": {},
   "outputs": [],
   "source": [
    "print(course)"
   ]
  },
  {
   "cell_type": "markdown",
   "id": "f243bd95-80c7-49d0-81aa-452f07d08ea9",
   "metadata": {},
   "source": [
    "as you have noticed that cource variable has some data into it but we don't know that how much data dose it contant or how much lenth dose it has so for checking that we will be using `len` function to find the lenth "
   ]
  },
  {
   "cell_type": "code",
   "execution_count": null,
   "id": "049bb95c-d36d-40ec-b087-7779ff441183",
   "metadata": {},
   "outputs": [],
   "source": [
    "print(len(course))\n",
    "len(course) # either you can use print function or direct you can use len function to print length of variable"
   ]
  },
  {
   "cell_type": "markdown",
   "id": "ab8ae5e0-1fd6-433c-a6be-72ba201ccffa",
   "metadata": {},
   "source": [
    "so as we have seen that we have used `len` function to get the lenth of sring which we use to display a message or anything else so now what we will do is that we will print upper or lower cases of string by using lower and upper"
   ]
  },
  {
   "cell_type": "code",
   "execution_count": null,
   "id": "09a4099c-778d-431f-8ff2-81085b41559c",
   "metadata": {},
   "outputs": [],
   "source": [
    "print(course)\n",
    "print(course.lower()) # so when we add . after variable are been known as a method\n",
    "print(course.upper())"
   ]
  },
  {
   "cell_type": "markdown",
   "id": "8e309206-a3f4-4266-8117-154d9ec9f8b6",
   "metadata": {},
   "source": [
    "so as you have seen that when we used lower or upper method which will help to take input data or print data into upper or lower cases. this method dosn't change your orignal data but it create a new string and return it with the modified data with responce to orignal data"
   ]
  },
  {
   "cell_type": "markdown",
   "id": "c84b4e75-afb3-4d4c-9fcd-542afe9897d1",
   "metadata": {},
   "source": [
    "now lets just say you want to find a possion of a letter so insted of upper and lower we will use find method"
   ]
  },
  {
   "cell_type": "code",
   "execution_count": null,
   "id": "e567e81a-46dc-46ed-b28a-31e13dbe5f24",
   "metadata": {},
   "outputs": [],
   "source": [
    "print(course.find('n'))\n",
    "print(course.find('for')) # its also finds out the word and its index number also"
   ]
  },
  {
   "cell_type": "markdown",
   "id": "38020250",
   "metadata": {},
   "source": [
    "as we know that methods are use for different types of purposes as we have seen find, length, upper, lower.\n",
    "now say for example you want to replace some words so there is an option to replace it also like other methods"
   ]
  },
  {
   "cell_type": "code",
   "execution_count": null,
   "id": "8bb8688e",
   "metadata": {},
   "outputs": [],
   "source": [
    "print(course + ' (original statement)') # this is our original statement\n",
    "print(course.replace('Python','Python course') + ' (replaced statement)') # this is our replaced statement but remember one thing that replacing characters are case-sensitive so make sure that you write the exert same characters."
   ]
  },
  {
   "cell_type": "markdown",
   "id": "41a71969",
   "metadata": {},
   "source": [
    "say for example you want to find something in the text or paragraph whether it exist or not for that we will be using `in` operator"
   ]
  },
  {
   "cell_type": "code",
   "execution_count": 8,
   "id": "fb41d896",
   "metadata": {},
   "outputs": [
    {
     "name": "stdout",
     "output_type": "stream",
     "text": [
      "True\n",
      "False\n"
     ]
    }
   ],
   "source": [
    "print('Python' in course) # remember this is also case-sensitive\n",
    "print('python' in course)"
   ]
  },
  {
   "cell_type": "code",
   "execution_count": 10,
   "id": "eb274bde",
   "metadata": {},
   "outputs": [
    {
     "name": "stdout",
     "output_type": "stream",
     "text": [
      "Python For Beginners\n"
     ]
    }
   ],
   "source": [
    "print(course.title())"
   ]
  },
  {
   "cell_type": "code",
   "execution_count": null,
   "id": "cc7b1ded",
   "metadata": {},
   "outputs": [],
   "source": []
  }
 ],
 "metadata": {
  "kernelspec": {
   "display_name": "Python 3.9.2 64-bit",
   "language": "python",
   "name": "python3"
  },
  "language_info": {
   "codemirror_mode": {
    "name": "ipython",
    "version": 3
   },
   "file_extension": ".py",
   "mimetype": "text/x-python",
   "name": "python",
   "nbconvert_exporter": "python",
   "pygments_lexer": "ipython3",
   "version": "3.9.2"
  },
  "vscode": {
   "interpreter": {
    "hash": "916dbcbb3f70747c44a77c7bcd40155683ae19c65e1c03b4aa3499c5328201f1"
   }
  }
 },
 "nbformat": 4,
 "nbformat_minor": 5
}
