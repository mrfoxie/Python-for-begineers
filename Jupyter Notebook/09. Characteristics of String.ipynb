{
 "cells": [
  {
   "cell_type": "markdown",
   "id": "f4ed4e9a",
   "metadata": {},
   "source": [
    "# **Characteristics of String**\n",
    "now we will be seeing characteristics of string by using square brackets \"[]\".\n",
    "this is usually to index the characters which are written in the string."
   ]
  },
  {
   "cell_type": "code",
   "execution_count": null,
   "id": "da2fdb0a",
   "metadata": {},
   "outputs": [],
   "source": [
    "string_index = 'This is a test string'\n",
    "#               0123456789.....\n",
    "print(string_index[0])"
   ]
  },
  {
   "cell_type": "markdown",
   "id": "5c967da8",
   "metadata": {},
   "source": [
    "here what will happen that it will just print only 0 no of index from string_index line which will be \"T\".\n",
    "well I don't know about other programming language, but you can use -ve numbering for indexing to print  characters from the last of the statement."
   ]
  },
  {
   "cell_type": "code",
   "execution_count": null,
   "id": "663f820d",
   "metadata": {},
   "outputs": [],
   "source": [
    "print(string_index[-1])"
   ]
  },
  {
   "cell_type": "markdown",
   "id": "3c92ca2d",
   "metadata": {},
   "source": [
    "here you will get \"G\" which is the ending of \"string\" you can change the negative number to test it."
   ]
  },
  {
   "cell_type": "markdown",
   "id": "5e2a909d",
   "metadata": {},
   "source": [
    "what was happening in the above statement was that it only print a single characters.\n",
    "but what if you want to print certain characters from a sentence for that we will use : to get it out just check the code below."
   ]
  },
  {
   "cell_type": "code",
   "execution_count": null,
   "id": "c6a9a106",
   "metadata": {},
   "outputs": [],
   "source": [
    "print(string_index[0:4])"
   ]
  },
  {
   "cell_type": "markdown",
   "id": "d337b9ec",
   "metadata": {},
   "source": [
    "here you will be able to get \"This\" as an answer.\n",
    "let's see the explanation of string_index[0:4] here what will happen is it will return with 4 characters because 0 indicate the starting position and 4 means how much number of characters should be extracted from starting position of the index.\n"
   ]
  }
 ],
 "metadata": {
  "interpreter": {
   "hash": "4f946df053fbf2b937619d3c5458e7af74262f9a954d8797ba0b27400bcafe06"
  },
  "kernelspec": {
   "display_name": "Python 3.10.4 64-bit",
   "language": "python",
   "name": "python3"
  },
  "language_info": {
   "codemirror_mode": {
    "name": "ipython",
    "version": 3
   },
   "file_extension": ".py",
   "mimetype": "text/x-python",
   "name": "python",
   "nbconvert_exporter": "python",
   "pygments_lexer": "ipython3",
   "version": "3.10.4"
  }
 },
 "nbformat": 4,
 "nbformat_minor": 5
}
