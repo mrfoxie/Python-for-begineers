{
 "cells": [
  {
   "cell_type": "markdown",
   "id": "da7b13ee",
   "metadata": {},
   "source": [
    "# **PRINT** \n",
    "PRINT is used to print any text or numerical data which is witten by user.\n",
    "print also us helps to display message of the task which is being done when the program is being executed In python programming are being scanned from first line of the Now when you want to print something then you need quotations mark to print any-kind of string (means display characters) to display out message which you want to print."
   ]
  },
  {
   "cell_type": "code",
   "execution_count": null,
   "id": "299735d3",
   "metadata": {},
   "outputs": [],
   "source": [
    "print('Hello World')  # to print any kind of messages to user of inform user"
   ]
  },
  {
   "cell_type": "markdown",
   "id": "b5bc7236",
   "metadata": {},
   "source": [
    "Try to draw an imaginary dog using print command."
   ]
  },
  {
   "cell_type": "code",
   "execution_count": null,
   "id": "9fdc8bcc",
   "metadata": {},
   "outputs": [],
   "source": [
    "print('')"
   ]
  },
  {
   "cell_type": "code",
   "execution_count": null,
   "id": "41cfdb5f",
   "metadata": {},
   "outputs": [],
   "source": [
    "print('*' * 3)"
   ]
  },
  {
   "cell_type": "markdown",
   "id": "2e670384",
   "metadata": {},
   "source": [
    "hold on as I told you that we will be printing characters in quotation marks then why am I using multiplication here well you will see the magic when you run it when you multiply sting with any number than it  will multiply the output and give you the answer in the above case it will print 3 time '*' like this *** << this is your answer of the above line now you can try down bellow with your actions\n"
   ]
  },
  {
   "cell_type": "markdown",
   "id": "0ea42869",
   "metadata": {},
   "source": [
    "# Practice"
   ]
  },
  {
   "cell_type": "code",
   "execution_count": null,
   "id": "a72202eb",
   "metadata": {},
   "outputs": [],
   "source": [
    "print('|' * 10)  # change 10 and characters in the quotation mark"
   ]
  },
  {
   "cell_type": "markdown",
   "id": "fa8937bb",
   "metadata": {},
   "source": [
    "Now what if I use addition instead of multiplication then what will happen. Let's give it a try."
   ]
  },
  {
   "cell_type": "code",
   "execution_count": null,
   "id": "4bff9bb6",
   "metadata": {},
   "outputs": [],
   "source": [
    "print('First word' + ' Second word')"
   ]
  },
  {
   "cell_type": "markdown",
   "id": "16dec437",
   "metadata": {},
   "source": [
    "here both the words will add together and give you the answer 'First word Second word' so when you use addition instead of multiplication will combine those words and give you a single word."
   ]
  }
 ],
 "metadata": {
  "interpreter": {
   "hash": "4f946df053fbf2b937619d3c5458e7af74262f9a954d8797ba0b27400bcafe06"
  },
  "kernelspec": {
   "display_name": "Python 3.10.4 64-bit",
   "language": "python",
   "name": "python3"
  },
  "language_info": {
   "codemirror_mode": {
    "name": "ipython",
    "version": 3
   },
   "file_extension": ".py",
   "mimetype": "text/x-python",
   "name": "python",
   "nbconvert_exporter": "python",
   "pygments_lexer": "ipython3",
   "version": "3.10.4"
  }
 },
 "nbformat": 4,
 "nbformat_minor": 5
}
