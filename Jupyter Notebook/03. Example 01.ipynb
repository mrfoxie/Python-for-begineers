{
 "cells": [
  {
   "cell_type": "markdown",
   "id": "4a3a3c34",
   "metadata": {},
   "source": [
    "# We check in a patient named John Smith.\n",
    "# He's 20 years old and is a new patient."
   ]
  },
  {
   "cell_type": "code",
   "execution_count": null,
   "id": "d31e6136",
   "metadata": {},
   "outputs": [],
   "source": [
    "# input your answer here"
   ]
  }
 ],
 "metadata": {
  "kernelspec": {
   "display_name": "Python 3 (ipykernel)",
   "language": "python",
   "name": "python3"
  },
  "language_info": {
   "codemirror_mode": {
    "name": "ipython",
    "version": 3
   },
   "file_extension": ".py",
   "mimetype": "text/x-python",
   "name": "python",
   "nbconvert_exporter": "python",
   "pygments_lexer": "ipython3",
   "version": "3.10.4"
  }
 },
 "nbformat": 4,
 "nbformat_minor": 5
}
