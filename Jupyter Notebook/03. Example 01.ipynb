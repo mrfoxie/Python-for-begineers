{
 "cells": [
  {
   "cell_type": "markdown",
   "id": "4a3a3c34",
   "metadata": {},
   "source": [
    "# **Example 01**\n",
    "We check in a patient named John Smith.\n",
    "He's 20 years old and is a new patient."
   ]
  },
  {
   "cell_type": "code",
   "execution_count": 1,
   "id": "d31e6136",
   "metadata": {},
   "outputs": [],
   "source": [
    "# input your answer here"
   ]
  }
 ],
 "metadata": {
  "interpreter": {
   "hash": "4f946df053fbf2b937619d3c5458e7af74262f9a954d8797ba0b27400bcafe06"
  },
  "kernelspec": {
   "display_name": "Python 3.10.4 64-bit",
   "language": "python",
   "name": "python3"
  },
  "language_info": {
   "codemirror_mode": {
    "name": "ipython",
    "version": 3
   },
   "file_extension": ".py",
   "mimetype": "text/x-python",
   "name": "python",
   "nbconvert_exporter": "python",
   "pygments_lexer": "ipython3",
   "version": "3.10.4"
  }
 },
 "nbformat": 4,
 "nbformat_minor": 5
}
