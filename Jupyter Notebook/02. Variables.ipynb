{
 "cells": [
  {
   "cell_type": "markdown",
   "id": "37e22ecd",
   "metadata": {},
   "source": [
    "# **VARIABLE**\n",
    "Variable are used to store data. Variables may be of different type such as string, float, integer etc. Variables are also used to as input from users, and then you can store in its memory. Say for example if you want to save someone's age then you have to just use variable to save e.g. age = 25. After using the variable you can use it in the print statement to print age."
   ]
  },
  {
   "cell_type": "code",
   "execution_count": null,
   "id": "a4a55a5d",
   "metadata": {},
   "outputs": [],
   "source": [
    "age = 25  # just writing 25 means that it's your integer\n",
    "print(age)  # you will get answer '25' in the terminal box but if you add quote to age then it will print age"
   ]
  },
  {
   "cell_type": "code",
   "execution_count": null,
   "id": "f4d98c29",
   "metadata": {},
   "outputs": [],
   "source": [
    "degree = 15.5\n",
    "print(degree)  # you will get 15.5 which is your float number so as a result you will 15.5"
   ]
  },
  {
   "cell_type": "markdown",
   "id": "9771921c",
   "metadata": {},
   "source": [
    "You can use quotation marks to print string characters so that you can display."
   ]
  },
  {
   "cell_type": "code",
   "execution_count": null,
   "id": "64e6657a",
   "metadata": {},
   "outputs": [],
   "source": [
    "name = 'HelloWorld'\n",
    "print(name)  # you will answer 'HelloWorld' in the terminal box."
   ]
  },
  {
   "cell_type": "markdown",
   "id": "eb87892c",
   "metadata": {},
   "source": [
    "# Try yourself"
   ]
  },
  {
   "cell_type": "code",
   "execution_count": null,
   "id": "e45b9146",
   "metadata": {},
   "outputs": [],
   "source": [
    "number = 0 # change 0 to any number\n",
    "characters = 'Change_me'\n",
    "print(number)\n",
    "print(characters)"
   ]
  },
  {
   "cell_type": "markdown",
   "id": "2cd154a1",
   "metadata": {},
   "source": [
    "Now say for example I used 2 time the same variable with different variables. Let's check it out."
   ]
  },
  {
   "cell_type": "code",
   "execution_count": null,
   "id": "9fe5adc5",
   "metadata": {},
   "outputs": [],
   "source": [
    "python = 22\n",
    "python = 'I win.'\n",
    "print(python)  # run the program and try it by yourself and check the answer."
   ]
  },
  {
   "cell_type": "markdown",
   "id": "8a494749",
   "metadata": {},
   "source": [
    "In some cases you need to define variable as a large name so for that you have to use underscore instead of spaces"
   ]
  },
  {
   "cell_type": "code",
   "execution_count": null,
   "id": "57eb6334",
   "metadata": {},
   "outputs": [],
   "source": [
    "two_words = 'First Second'  # as you can see that I have writen 2 words as a variable but in between there is no\n",
    "# space I have use underscore so that it can understand as a single variable\n",
    "print(two_words)"
   ]
  },
  {
   "cell_type": "markdown",
   "id": "882fe2f9",
   "metadata": {},
   "source": [
    "Now we will be using boolean in python but remember one thing that python is a case-sensitive langauge so make sure that you write in a proper formate"
   ]
  },
  {
   "cell_type": "code",
   "execution_count": null,
   "id": "8f73e259",
   "metadata": {},
   "outputs": [],
   "source": [
    "is_true = True\n",
    "print(is_true)\n",
    "is_false = False\n",
    "print(is_false)"
   ]
  },
  {
   "cell_type": "markdown",
   "id": "f5bd2994",
   "metadata": {},
   "source": [
    "as you can see that I have use true or false as a boolean, but it's a case-sensitive, so you have to capitalize all the characters which has been needed if not that it will prompt with you error you can try it by yourself by changing True or False in above code"
   ]
  }
 ],
 "metadata": {
  "interpreter": {
   "hash": "4f946df053fbf2b937619d3c5458e7af74262f9a954d8797ba0b27400bcafe06"
  },
  "kernelspec": {
   "display_name": "Python 3.10.4 64-bit",
   "language": "python",
   "name": "python3"
  },
  "language_info": {
   "codemirror_mode": {
    "name": "ipython",
    "version": 3
   },
   "file_extension": ".py",
   "mimetype": "text/x-python",
   "name": "python",
   "nbconvert_exporter": "python",
   "pygments_lexer": "ipython3",
   "version": "3.10.4"
  }
 },
 "nbformat": 4,
 "nbformat_minor": 5
}
