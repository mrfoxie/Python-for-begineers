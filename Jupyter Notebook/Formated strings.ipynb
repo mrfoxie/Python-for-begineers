{
 "cells": [
  {
   "cell_type": "markdown",
   "id": "c491a879-2e04-4dcc-9fdb-b17482f8f186",
   "metadata": {},
   "source": [
    "## Formated string\n",
    "Formated string is a method where you can add notation in the message which you want to print or to display to use"
   ]
  }
 ],
 "metadata": {
  "kernelspec": {
   "display_name": "Python 3 (ipykernel)",
   "language": "python",
   "name": "python3"
  },
  "language_info": {
   "codemirror_mode": {
    "name": "ipython",
    "version": 3
   },
   "file_extension": ".py",
   "mimetype": "text/x-python",
   "name": "python",
   "nbconvert_exporter": "python",
   "pygments_lexer": "ipython3",
   "version": "3.9.2"
  }
 },
 "nbformat": 4,
 "nbformat_minor": 5
}
