{
 "cells": [
  {
   "cell_type": "markdown",
   "id": "c491a879-2e04-4dcc-9fdb-b17482f8f186",
   "metadata": {},
   "source": [
    "## Formated string\n",
    "Formated string is a method where you can add notation in the message which you want to print or to display to use"
   ]
  },
  {
   "cell_type": "code",
   "execution_count": null,
   "id": "bb1b3495-d6ac-41c3-a7ee-c2511711c16a",
   "metadata": {},
   "outputs": [],
   "source": [
    "first_name = input(\"Enter your first name: \")\n",
    "last_name = input(\"Enter your last name: \")\n",
    "message = first_name + ' [' + last_name + '] is a coder'\n",
    "print(message)"
   ]
  },
  {
   "cell_type": "markdown",
   "id": "ebfefb6d-3aef-42a6-91b0-02e878e8ee56",
   "metadata": {},
   "source": [
    "so what we did here is that we simpled asked user for his/her first name and last name and then again we used a variable to gether all the information and print it out using print function\n",
    "now what we will do we will use formated string function and then we will print it by 2 ways"
   ]
  },
  {
   "cell_type": "code",
   "execution_count": null,
   "id": "681ad8db-7e92-4214-9132-f115ac4b5fa4",
   "metadata": {},
   "outputs": [],
   "source": [
    "# 1st way\n",
    "first_name = input(\"Enter your first name: \")\n",
    "last_name = input(\"Enter your last name: \")\n",
    "formated = f'{first_name} [{last_name}] is a coder'\n",
    "print(formated)"
   ]
  },
  {
   "cell_type": "code",
   "execution_count": null,
   "id": "8c252150-aec0-4741-8ab0-c928f8e29679",
   "metadata": {},
   "outputs": [],
   "source": [
    "# 2nd way\n",
    "first_name = input(\"Enter your first name: \")\n",
    "last_name = input(\"Enter your last name: \")\n",
    "print(f'{first_name} [{last_name}] is a coder')"
   ]
  },
  {
   "cell_type": "markdown",
   "id": "6086f304-ce2f-4004-8d40-2cb31fb0b9fa",
   "metadata": {},
   "source": [
    "so above are the 2 ways to print formated string. formated string make you to code easier and simple by simply adding placeholders `{}` also it make your code clean and easy to understand."
   ]
  },
  {
   "cell_type": "code",
   "execution_count": null,
   "id": "fb580f8f-f122-466c-9023-d8a7e96f8967",
   "metadata": {},
   "outputs": [],
   "source": []
  }
 ],
 "metadata": {
  "kernelspec": {
   "display_name": "Python 3 (ipykernel)",
   "language": "python",
   "name": "python3"
  },
  "language_info": {
   "codemirror_mode": {
    "name": "ipython",
    "version": 3
   },
   "file_extension": ".py",
   "mimetype": "text/x-python",
   "name": "python",
   "nbconvert_exporter": "python",
   "pygments_lexer": "ipython3",
   "version": "3.9.2"
  }
 },
 "nbformat": 4,
 "nbformat_minor": 5
}
