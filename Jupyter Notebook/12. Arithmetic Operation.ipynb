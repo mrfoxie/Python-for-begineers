{
 "cells": [
  {
   "cell_type": "markdown",
   "metadata": {},
   "source": [
    "# Arithmetic Operation\n",
    "This are the same arithmetic operation which are present in the math operation."
   ]
  },
  {
   "cell_type": "code",
   "execution_count": null,
   "metadata": {},
   "outputs": [],
   "source": [
    "# here are the same example of math operation\n",
    "10+2 # addition\n",
    "10-8 # subtraction\n",
    "20*3 # multiplication\n",
    "500/2 # Division\n",
    "100+5-55*(5/2) # math operation\n",
    "# we will be doing the same thing in python"
   ]
  },
  {
   "cell_type": "code",
   "execution_count": null,
   "metadata": {},
   "outputs": [],
   "source": [
    "print(10+2) # addition\n",
    "print(10-8) # subtraction\n",
    "print(20*3) # multiplication\n",
    "print(10**2)\n",
    "print(500/2) # Division\n",
    "print(100+5-55*(5/2)) # math operation\n",
    "# this are the same operation which can be performed in calculator or math"
   ]
  }
 ],
 "metadata": {
  "kernelspec": {
   "display_name": "Python 3.10.6 64-bit",
   "language": "python",
   "name": "python3"
  },
  "language_info": {
   "codemirror_mode": {
    "name": "ipython",
    "version": 3
   },
   "file_extension": ".py",
   "mimetype": "text/x-python",
   "name": "python",
   "nbconvert_exporter": "python",
   "pygments_lexer": "ipython3",
   "version": "3.10.6"
  },
  "orig_nbformat": 4,
  "vscode": {
   "interpreter": {
    "hash": "d2152fd7f0bbc62aa1baff8c990435d1e2c7175d001561303988032604c11a48"
   }
  }
 },
 "nbformat": 4,
 "nbformat_minor": 2
}
