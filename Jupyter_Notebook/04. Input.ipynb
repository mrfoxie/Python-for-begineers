{
 "cells": [
  {
   "cell_type": "markdown",
   "id": "8382b8e3",
   "metadata": {},
   "source": [
    "# Input\n",
    "Sometimes we use to get input from users to make sure that it has been matches with our program. This Input helps us to gain proper input to run our programs. Best example is youtube-dl which is based on python"
   ]
  },
  {
   "cell_type": "markdown",
   "id": "96531a70",
   "metadata": {},
   "source": [
    "input() This will prompt a dialog box or line on terminal which will ask for input from user so that it can fulfill its needs you can write whatever you want into the input function to give hint to user so that the user give proper input. This input as your keyboard and mouse which has prebuilt keys which helps to give input."
   ]
  },
  {
   "cell_type": "code",
   "execution_count": null,
   "id": "f9eec84a",
   "metadata": {},
   "outputs": [],
   "source": [
    "input('What is your name? ')"
   ]
  },
  {
   "cell_type": "markdown",
   "id": "abde0fe4",
   "metadata": {},
   "source": [
    "if you have just writen only input then it will save the output into memory. so for showing that output we will use variables to store it in and then use it out whenever we need it.\n"
   ]
  },
  {
   "cell_type": "code",
   "execution_count": null,
   "id": "679da2c8",
   "metadata": {},
   "outputs": [],
   "source": [
    "name = input(\"What is your name? \")  # now just run the program and then write your name.\n",
    "print('Hi ' + name)  # the output of the above line will be stored in the name variable, and then it will print it out.\n"
   ]
  },
  {
   "cell_type": "code",
   "execution_count": null,
   "id": "39971637-22c2-4cc0-bcc1-4e086424dc5b",
   "metadata": {},
   "outputs": [],
   "source": []
  }
 ],
 "metadata": {
  "kernelspec": {
   "display_name": "Python 3 (ipykernel)",
   "language": "python",
   "name": "python3"
  },
  "language_info": {
   "codemirror_mode": {
    "name": "ipython",
    "version": 3
   },
   "file_extension": ".py",
   "mimetype": "text/x-python",
   "name": "python",
   "nbconvert_exporter": "python",
   "pygments_lexer": "ipython3",
   "version": "3.9.2"
  }
 },
 "nbformat": 4,
 "nbformat_minor": 5
}
