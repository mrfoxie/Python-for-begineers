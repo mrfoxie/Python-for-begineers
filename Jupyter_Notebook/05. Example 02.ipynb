{
 "cells": [
  {
   "cell_type": "markdown",
   "id": "8b8fae9d",
   "metadata": {},
   "source": [
    "# **Example 02**\n",
    "Ask two question: person's name and favourite color.\n",
    "Then, print a message like \"Siddh likes orange color.\"\n"
   ]
  },
  {
   "cell_type": "code",
   "execution_count": 2,
   "id": "913936d7",
   "metadata": {},
   "outputs": [],
   "source": [
    "# input your answer here"
   ]
  }
 ],
 "metadata": {
  "interpreter": {
   "hash": "4f946df053fbf2b937619d3c5458e7af74262f9a954d8797ba0b27400bcafe06"
  },
  "kernelspec": {
   "display_name": "Python 3 (ipykernel)",
   "language": "python",
   "name": "python3"
  },
  "language_info": {
   "codemirror_mode": {
    "name": "ipython",
    "version": 3
   },
   "file_extension": ".py",
   "mimetype": "text/x-python",
   "name": "python",
   "nbconvert_exporter": "python",
   "pygments_lexer": "ipython3",
   "version": "3.9.2"
  }
 },
 "nbformat": 4,
 "nbformat_minor": 5
}
